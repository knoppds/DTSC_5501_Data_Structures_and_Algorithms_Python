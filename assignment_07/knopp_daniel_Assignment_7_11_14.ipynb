{
  "cells": [
    {
      "cell_type": "markdown",
      "metadata": {
        "id": "wxDL5Lr5LOsh"
      },
      "source": [
        "# Assignment 7 - Nov 14th"
      ]
    },
    {
      "cell_type": "markdown",
      "metadata": {
        "id": "wKJYJVBzLVis"
      },
      "source": [
        "## Instructions\n",
        "* The Assignment # 7 is in class (only)\n",
        "* Worth 10 points\n",
        "* The duration is 70 minutes\n",
        "* You must upload your Jupiter Notebook solution within the class limit (12:30 to 1:45 pm).\n",
        "* Late submissions are not allowed.\n",
        "* The instructor will provide a unique number with a code. You must enter this information below. **Assigment without this information will not be graded.**\n",
        "\n",
        "**General Conditions**\n",
        "* The final grade will be normalized (10 * your score / max score) only if the max score is greater than 7 points.\n",
        "* You can **only** talk and discuss with your classmates for the **first 15 minutes**.\n",
        "* You can access all **your material** (open book)\n",
        "* You are **not** allowed to use code helper sites like *stackoverflow*, *CodeReview,* etc.\n",
        "* You are **not** allowed to use *ChatGPT*, *Co-pilot*, or any other *AI*\n",
        "* You are **not** allowed to transfer files or share code with any other person (directly or indirectly)\n",
        "\n"
      ]
    },
    {
      "cell_type": "code",
      "execution_count": 206,
      "metadata": {
        "id": "l5_pmVv0EZS3"
      },
      "outputs": [],
      "source": [
        "# YOU MUST TO COMPLETE THE FOLLOWING INFORMATION\n",
        "# YOUR FULL NAME\n",
        "# NAME: Daniel Knopp\n",
        "# IDENTIKEY: _______________________\n",
        "\n",
        "# ENTER NUMBER AND CODE HERE\n",
        "# NUMBER: 8 # number between 1 and 100 (randome)\n",
        "# CODE:   lpcl # four letters (lower)\n",
        "\n",
        "# the combination between NUMBER and CODE is unique"
      ]
    },
    {
      "cell_type": "code",
      "execution_count": 207,
      "metadata": {
        "id": "x9gsGk2-jmxl"
      },
      "outputs": [],
      "source": [
        "# Basic code you can use in your solution\n",
        "# You dont need to modify this code.\n",
        "# You can copy and paset this part of this code if you need it\n",
        "class Node:\n",
        "\n",
        "  def __init__(self, key, left=None, right=None):\n",
        "    self.key = key\n",
        "    self.left = left\n",
        "    self.right = right\n",
        "\n",
        "  def display(self):\n",
        "        lines, *_ = self._display_aux()\n",
        "        for line in lines:\n",
        "            print(line)\n",
        "\n",
        "  def _display_aux(self):\n",
        "      \"\"\"Returns list of strings, width, height, and horizontal coordinate of the root.\"\"\"\n",
        "      # No child.\n",
        "      if self.right is None and self.left is None:\n",
        "          line = \"%s\" % self.key\n",
        "          width = len(line)\n",
        "          height = 1\n",
        "          middle = width // 2\n",
        "          return [line], width, height, middle\n",
        "      # Only left child.\n",
        "      if self.right is None:\n",
        "          lines, n, p, x = self.left._display_aux()\n",
        "          s = \"%s\" % self.key\n",
        "          u = len(s)\n",
        "          first_line = (x + 1) * \" \" + (n - x - 1) * \"_\" + s\n",
        "          second_line = x * \" \" + \"/\" + (n - x - 1 + u) * \" \"\n",
        "          shifted_lines = [line + u * \" \" for line in lines]\n",
        "          return [first_line, second_line] + shifted_lines, n + u, p + 2, n + u // 2\n",
        "      # Only right child.\n",
        "      if self.left is None:\n",
        "          lines, n, p, x = self.right._display_aux()\n",
        "          s = \"%s\" % self.key\n",
        "          u = len(s)\n",
        "          first_line = s + x * \"_\" + (n - x) * \" \"\n",
        "          second_line = (u + x) * \" \" + \"\\\\\" + (n - x - 1) * \" \"\n",
        "          shifted_lines = [u * \" \" + line for line in lines]\n",
        "          return [first_line, second_line] + shifted_lines, n + u, p + 2, u // 2\n",
        "      # Two children.\n",
        "      left, n, p, x = self.left._display_aux()\n",
        "      right, m, q, y = self.right._display_aux()\n",
        "      s = \"%s\" % self.key\n",
        "      u = len(s)\n",
        "      first_line = (x + 1) * \" \" + (n - x - 1) * \"_\" + s + y * \"_\" + (m - y) * \" \"\n",
        "      second_line = (\n",
        "          x * \" \" + \"/\" + (n - x - 1 + u + y) * \" \" + \"\\\\\" + (m - y - 1) * \" \"\n",
        "      )\n",
        "      if p < q:\n",
        "          left += [n * \" \"] * (q - p)\n",
        "      elif q < p:\n",
        "          right += [m * \" \"] * (p - q)\n",
        "      zipped_lines = zip(left, right)\n",
        "      lines = [first_line, second_line] + [a + u * \" \" + b for a, b in zipped_lines]\n",
        "      return lines, n + m + u, max(p, q) + 2, n + u // 2\n",
        "\n",
        "\n",
        "  def __str__(self):\n",
        "    return str(self.key)\n",
        "\n",
        "  def PrintPreOrder(self, out): # modified to have ability to store output\n",
        "    # print(self.key, end=\" \")\n",
        "    out += self.key\n",
        "    if self.left: self.left.PrintPreOrder(out)\n",
        "    if self.right: self.right.PrintPreOrder(out)\n",
        "\n",
        "  def PrintInOrder(self, out): # modified to have ability to store output\n",
        "    if self.left: self.left.PrintInOrder(out)\n",
        "    # print(self.key, end=\" \")\n",
        "    out.append(self.key)\n",
        "    if self.right: self.right.PrintInOrder(out)\n",
        "\n",
        "  def PrintPostOrder(self):\n",
        "    if self.left: self.left.PrintPostOrder()\n",
        "    if self.right: self.right.PrintPostOrder()\n",
        "    print(self.key, end=\" \")\n",
        "\n",
        "  # method used later for finding a node when the tree is not in BST order\n",
        "  def find_a_node_in_order(self, val, node):\n",
        "    if self.key == val: node.append(self)\n",
        "    if self.left: self.left.find_a_node_in_order(val, node)\n",
        "    if self.right: self.right.find_a_node_in_order(val, node)\n",
        "     "
      ]
    },
    {
      "cell_type": "code",
      "execution_count": 208,
      "metadata": {
        "id": "uvjUq_7lkFed"
      },
      "outputs": [],
      "source": [
        "def insertBST(node, key):\n",
        "    if node is None: return Node(key)\n",
        "    if key < node.key: node.left = insertBST(node.left, key)\n",
        "    elif key > node.key: node.right = insertBST(node.right, key)\n",
        "    return node"
      ]
    },
    {
      "cell_type": "code",
      "execution_count": 209,
      "metadata": {
        "id": "W6IZ7e6yoPes"
      },
      "outputs": [],
      "source": [
        "import random\n",
        "randomBST=Node(random.randint(0, 100))\n",
        "\n",
        "for _ in range(50):\n",
        "    insertBST(randomBST,random.randint(0, 100))"
      ]
    },
    {
      "cell_type": "markdown",
      "metadata": {
        "id": "NoykHR7HmuE_"
      },
      "source": [
        "## Q1 (2 pts). Find Kth Largest Value in BST"
      ]
    },
    {
      "cell_type": "markdown",
      "metadata": {
        "id": "OFdC0QraG6z6"
      },
      "source": [
        "Write a function that takes in a Binary Search Tree (BST) and a positive integer k and returns the kth largest integer contained in the BST.\n",
        "\n",
        "You can assume that there will only be integer values in the BST and that k is less than or equal to the number of nodes in the tree.\n",
        "\n",
        "\n",
        "Each BST node has an integer value, a left child node, and a right child node. A node is said to be a valid BST node if and only if it satisfies the BST property: its value is strictly greater than the values of every node to its left; its value is strictly less than to the values of every node to its right; and its children nodes are either valid  BST nodes themselves or None / null.\n",
        "\n",
        "\n",
        "**Sample Input**\n",
        "\n",
        "![BasicTreeHW7.png](data:image/png;base64,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)\n",
        "\n",
        "k=3\n",
        "\n",
        "**Sample Output**\n",
        "\n",
        "17"
      ]
    },
    {
      "cell_type": "code",
      "execution_count": 210,
      "metadata": {
        "colab": {
          "base_uri": "https://localhost:8080/"
        },
        "id": "bflorMsTj-oc",
        "outputId": "44edbdf9-8265-476b-cd00-2b18a74af399"
      },
      "outputs": [
        {
          "name": "stdout",
          "output_type": "stream",
          "text": [
            "    _15___   \n",
            "   /      \\  \n",
            "  _5     20_ \n",
            " /  \\   /   \\\n",
            " 2  6  17  22\n",
            "/ \\          \n",
            "1 3          \n"
          ]
        }
      ],
      "source": [
        "Q1Tree=Node(15)\n",
        "insertBST(Q1Tree,5)\n",
        "insertBST(Q1Tree,20)\n",
        "insertBST(Q1Tree,2)\n",
        "insertBST(Q1Tree,6)\n",
        "insertBST(Q1Tree,17)\n",
        "insertBST(Q1Tree,22)\n",
        "insertBST(Q1Tree,1)\n",
        "insertBST(Q1Tree,3)\n",
        "Q1Tree.display()"
      ]
    },
    {
      "cell_type": "code",
      "execution_count": 211,
      "metadata": {
        "id": "fDE80ZVMHQy8"
      },
      "outputs": [],
      "source": [
        "def findKthLargestValueInBst(tree, k):\n",
        "\n",
        "    # Get a numerically ordered list using the in-order printing\n",
        "    ordered_list = []\n",
        "    tree.PrintInOrder(ordered_list)\n",
        "\n",
        "    # ket the kth largest value (kth value from the end)\n",
        "    return ordered_list[-k]"
      ]
    },
    {
      "cell_type": "code",
      "execution_count": 212,
      "metadata": {
        "id": "Q9Gl-l8NoUcA"
      },
      "outputs": [
        {
          "name": "stdout",
          "output_type": "stream",
          "text": [
            "17\n"
          ]
        }
      ],
      "source": [
        "#Test you conde\n",
        "#using Q1Tree and randomBST\n",
        "\n",
        "print(findKthLargestValueInBst(Q1Tree, 3))"
      ]
    },
    {
      "cell_type": "markdown",
      "metadata": {
        "id": "m78rm5h8K0lz"
      },
      "source": [
        "## Q2 (3 pts) Check and Repair BST"
      ]
    },
    {
      "cell_type": "markdown",
      "metadata": {
        "id": "oi_aI_6aK2hB"
      },
      "source": [
        "Q2.1 CCheck if a tree is a Binary Search Tree (BST). Check consistency and return True if the tree is a BST or false in any other case.\n",
        "\n",
        "Q2.2 You're given a Binary Search Tree (BST) with at least two nodes and only nodes with unique values (no duplicate values). Exactly two nodes in the BST have had their values swapped, therefore breaking the BST. Write a function that returns a repaired tree version with all values on the correct nodes.\n",
        "\n",
        "Your function can mutate the original tree; **you do not need to create a new one**.\n",
        "\n",
        "Each BST node has an integer value, a left child node, and a right child node. A node is said to be a valid BST node if and only if it satisfies the BST property: its value is strictly greater than the values of every node to its left; its value is less than or equal to the values of every node to its right; and its children's nodes are either valid BST nodes themselves or None/null.\n",
        "\n",
        "\n",
        "**Sample Input**\n",
        "\n",
        "![BrokenBST.png](data:image/png;base64,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)\n",
        "\n",
        "\n",
        "**Sample Output**\n",
        "\n",
        "![FixedBST.png](data:image/png;base64,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)\n",
        "\n",
        "\n",
        "\n",
        "Q2.2 Questions\n",
        "* Part1. Define your approach. Express it in 3-4 paragraphs. Add images if needed.\n",
        "\n",
        "* Part2. Write your code and testing using the sample and, and if you want withh more cases.\n",
        "\n",
        "\n",
        "Hint: You can swap values (Node.key) and not the node as object.\n",
        "\n"
      ]
    },
    {
      "cell_type": "code",
      "execution_count": 213,
      "metadata": {
        "colab": {
          "base_uri": "https://localhost:8080/"
        },
        "id": "u6MmWJTImGnE",
        "outputId": "ce6076a4-e22f-4e4f-ac46-ab6331236a44"
      },
      "outputs": [
        {
          "name": "stdout",
          "output_type": "stream",
          "text": [
            "   __10____   \n",
            "  /        \\  \n",
            "  7_    __20_ \n",
            " /  \\  /     \\\n",
            " 3 12  8_   22\n",
            "/        \\    \n",
            "2       14    \n"
          ]
        }
      ],
      "source": [
        "Q2Tree=Node(10)\n",
        "Q2Tree.left=Node(7)\n",
        "Q2Tree.left.left=Node(3)\n",
        "Q2Tree.left.left.left=Node(2)\n",
        "Q2Tree.left.right=Node(12)\n",
        "Q2Tree.right=Node(20)\n",
        "Q2Tree.right.left=Node(8)\n",
        "Q2Tree.right.right=Node(22)\n",
        "Q2Tree.right.left.right=Node(14)\n",
        "Q2Tree.display()"
      ]
    },
    {
      "cell_type": "code",
      "execution_count": 214,
      "metadata": {
        "id": "pfhGSgW4lwhV"
      },
      "outputs": [
        {
          "data": {
            "text/plain": [
              "False"
            ]
          },
          "execution_count": 214,
          "metadata": {},
          "output_type": "execute_result"
        }
      ],
      "source": [
        "#Q2.1\n",
        "\n",
        "def checkIfBST(tree):\n",
        "    # Get the value in order according to a true BST\n",
        "    original_list = []\n",
        "    tree.PrintInOrder(original_list)\n",
        "\n",
        "    # get the sorted list\n",
        "    sorted_list = sorted(original_list)\n",
        "\n",
        "    # If the original and sorted lists are the same, is a true BST - otherwise is not\n",
        "    return True if original_list == sorted_list else False\n",
        "\n",
        "\n",
        "checkIfBST(Q2Tree)"
      ]
    },
    {
      "cell_type": "markdown",
      "metadata": {
        "id": "uDQE72vCl7aM"
      },
      "source": [
        "Q2.2 - Part 1. Response Here\n",
        "\n",
        "My approach is very simple. I first can print the tree using the PrintInOrder() method. I have modified this method above so that I can store the output as a list. For a true BST this list will be in numerically sorted order. If I  compare the original list to a sorted version of the list, then I can tell if the tree is a true BST or not. If both lists are in the same order (equal), then the tree is a true BST - otherwise it is not and there are some issues.\n",
        "\n",
        "For repairing the BST, I can do something similar to find the keys of nodes which are out of place. Then I can use a new method I created to get the node object corresponding to each of the out-of-order nodes and swap their keys (in code below)."
      ]
    },
    {
      "cell_type": "code",
      "execution_count": 215,
      "metadata": {
        "id": "wpXle2OYK0Pz"
      },
      "outputs": [],
      "source": [
        "# Q2.2- Part 2. Your code here\n",
        "\n",
        "\n",
        "def repairBST(tree):\n",
        "    # Get the value in order of the current BST\n",
        "    original_list = []\n",
        "    tree.PrintInOrder(original_list)\n",
        "\n",
        "    # Get the true BST sorted order\n",
        "    sorted_list = sorted(original_list)\n",
        "    \n",
        "    # Get the values of the 2 nodes which need to be swapped\n",
        "    swapped_values = []\n",
        "    for i in range(len(original_list)):\n",
        "        if original_list[i] != sorted_list[i]:\n",
        "            swapped_values.append(original_list[i])\n",
        "\n",
        "    # Use the method defined above to get the nodes for each value to swap\n",
        "    node_1 = []\n",
        "    node_2 = []\n",
        "    tree.find_a_node_in_order(swapped_values[0], node_1)\n",
        "    tree.find_a_node_in_order(swapped_values[1], node_2)\n",
        "\n",
        "    # Swap their keys\n",
        "    node_1[0].key = swapped_values[1]\n",
        "    node_2[0].key = swapped_values[0]"
      ]
    },
    {
      "cell_type": "code",
      "execution_count": 216,
      "metadata": {
        "colab": {
          "base_uri": "https://localhost:8080/"
        },
        "id": "dlnPofM5R8OY",
        "outputId": "d0010c6a-44af-47a8-c4c6-1b1c60a90997"
      },
      "outputs": [
        {
          "name": "stdout",
          "output_type": "stream",
          "text": [
            "False\n",
            "True\n",
            "--broken--\n",
            "   __10____   \n",
            "  /        \\  \n",
            "  7_    __20_ \n",
            " /  \\  /     \\\n",
            " 3 12  8_   22\n",
            "/        \\    \n",
            "2       14    \n",
            "\n",
            "--fixed--\n",
            "   _10_____   \n",
            "  /        \\  \n",
            "  7     __20_ \n",
            " / \\   /     \\\n",
            " 3 8  12_   22\n",
            "/        \\    \n",
            "2       14    \n"
          ]
        }
      ],
      "source": [
        "## Test your code here\n",
        "##Provide both trees (display), brokenTree and fixedTree\n",
        "\n",
        "print(checkIfBST(Q2Tree))\n",
        "print(checkIfBST(randomBST))\n",
        "\n",
        "print('--broken--')\n",
        "Q2Tree.display()\n",
        "repairBST(Q2Tree)\n",
        "# Q2Tree=repairBST(Q2Tree)\n",
        "print()\n",
        "print('--fixed--')\n",
        "Q2Tree.display()\n",
        "\n"
      ]
    },
    {
      "cell_type": "markdown",
      "metadata": {
        "id": "e_yc4oR1lHH2"
      },
      "source": [
        "## Q3 (3 pts) Rental Equipment (Laptop)"
      ]
    },
    {
      "cell_type": "markdown",
      "metadata": {
        "id": "8D24rdocJdah"
      },
      "source": [
        "You're given a list of time intervals during which students at a school need a laptop. These time intervals are represented by pairs of Integers [start, end], where 0 < start < end. However, start and end don't represent real times; therefore, they may be greater than 24.\n",
        "\n",
        "No two students can use a laptop at the same time, but immediately after a student is done using a laptop, another student can use that same laptop. For example, If one student rents a laptop during the time interval [0, 2] , another student can rent the same laptop during any time interval starting with 2.\n",
        "\n",
        "Write a function that returns the minimum number of laptops that the school needs to rent such that all students will always have access to a laptop when they need one.\n",
        "\n",
        "Write down all your assumptions if you have them or need them to solve the problem.\n",
        "\n",
        "**Sample Input**\n",
        "\n",
        "\n",
        "```\n",
        "times =[\n",
        "    [0, 2],\n",
        "    [1, 4],\n",
        "    [4, 6],\n",
        "    [0, 4],\n",
        "    [7, 8],\n",
        "    [9, 11],\n",
        "    [3, 10]\n",
        "  ]\n",
        "```\n",
        "\n",
        "\n",
        "\n",
        "\n",
        "\n",
        "**Sample Output**\n",
        "```\n",
        "3\n",
        "```\n"
      ]
    },
    {
      "cell_type": "markdown",
      "metadata": {
        "id": "3C_In-rvQ13R"
      },
      "source": [
        "**Assumptions Here:**\n",
        "I am assuming that the times are integers within the range (hourly reservations) and that a student can hand off the laptop to another student at the end of their time range (if end of one range and start of another overlap, doesn't count toward needing an additional laptop)"
      ]
    },
    {
      "cell_type": "code",
      "execution_count": 217,
      "metadata": {
        "id": "Cmm-rpunmCtH"
      },
      "outputs": [],
      "source": [
        "def laptopRentals(times):\n",
        "\n",
        "    # Create a dictionary to keep track of times\n",
        "    my_dict = {}\n",
        "\n",
        "    # Loop over each list of ranges\n",
        "    for rng in times:\n",
        "\n",
        "        # Loop over each rime within the range, exclusive of the end (can hand off the laptop)\n",
        "        for time in range(rng[0], rng[1]):\n",
        "            # print(time)\n",
        "            # If the value is not in the dictionary, initialize with 1\n",
        "            if time not in my_dict.keys():\n",
        "\n",
        "                my_dict[time] = 1\n",
        "\n",
        "            else: # Else add 1 to the number of computers for this hour\n",
        "\n",
        "                my_dict[time] += 1\n",
        "\n",
        "    # Return the number of laptops needed\n",
        "    return max(my_dict.values())"
      ]
    },
    {
      "cell_type": "code",
      "execution_count": 218,
      "metadata": {
        "id": "NgprM93pRBQc"
      },
      "outputs": [
        {
          "data": {
            "text/plain": [
              "3"
            ]
          },
          "execution_count": 218,
          "metadata": {},
          "output_type": "execute_result"
        }
      ],
      "source": [
        "#Test your code\n",
        "times =[\n",
        "    [0, 2],\n",
        "    [1, 4],\n",
        "    [4, 6],\n",
        "    [0, 4],\n",
        "    [7, 8],\n",
        "    [9, 11],\n",
        "    [3, 10]\n",
        "  ]\n",
        "laptopRentals(times)"
      ]
    },
    {
      "cell_type": "markdown",
      "metadata": {
        "id": "1xXZ41OQmDLY"
      },
      "source": [
        "## Q4 (2 pts) Delete a Node for a BST"
      ]
    },
    {
      "cell_type": "markdown",
      "metadata": {
        "id": "uUuGZSHYn3go"
      },
      "source": [
        "Delete a node from a BST and call it deleteNode.\n",
        "\n",
        "you must consider three cases:\n",
        "\n",
        "* Case i.   The node to be deleted has no child (no left or right node)\n",
        "* Case ii.  The node to be deleted has only one child, either the left node or the right node.\n",
        "* Case iii. The node to be deleted has two children, left and right."
      ]
    },
    {
      "cell_type": "code",
      "execution_count": 219,
      "metadata": {
        "colab": {
          "base_uri": "https://localhost:8080/"
        },
        "id": "Um1sTGMfoJP7",
        "outputId": "588288b2-f40e-48d1-d975-4dd90fce2e3b"
      },
      "outputs": [
        {
          "name": "stdout",
          "output_type": "stream",
          "text": [
            "    _15___   \n",
            "   /      \\  \n",
            "  _5     20_ \n",
            " /  \\   /   \\\n",
            " 2  6  17  22\n",
            "/ \\          \n",
            "1 3          \n"
          ]
        }
      ],
      "source": [
        "Q4Tree=Node(15)\n",
        "insertBST(Q4Tree,5)\n",
        "insertBST(Q4Tree,20)\n",
        "insertBST(Q4Tree,2)\n",
        "insertBST(Q4Tree,6)\n",
        "insertBST(Q4Tree,17)\n",
        "insertBST(Q4Tree,22)\n",
        "insertBST(Q4Tree,1)\n",
        "insertBST(Q4Tree,3)\n",
        "Q4Tree.display()"
      ]
    },
    {
      "cell_type": "code",
      "execution_count": 220,
      "metadata": {
        "id": "_o3gRa1cn3CS"
      },
      "outputs": [],
      "source": [
        "def deleteNode(root,k):\n",
        "    if root == None: return None\n",
        "    if k < root.key: root.left  = deleteNode(root.left ,k)\n",
        "    if k > root.key: root.right = deleteNode(root.right,k)\n",
        "    if k == root.key:\n",
        "        if root.left  == None and root.right == None: return None\n",
        "        if root.left  == None                       : return root.right\n",
        "        if root.right == None                       : return root.left\n",
        "        # find the appropriate successor\n",
        "        succ = root.right\n",
        "        while succ.left != None: succ = succ.left # find min value in right subtree\n",
        "        root.key = succ.key\n",
        "        root.right = deleteNode(root.right,succ.key)\n",
        "    return root"
      ]
    },
    {
      "cell_type": "code",
      "execution_count": 221,
      "metadata": {
        "colab": {
          "base_uri": "https://localhost:8080/"
        },
        "id": "8o8JTaA2pAdM",
        "outputId": "d605fc37-fab7-4c9e-c35a-ed8a9b2fe28d"
      },
      "outputs": [
        {
          "name": "stdout",
          "output_type": "stream",
          "text": [
            "    _15___ \n",
            "   /      \\\n",
            "  _5     22\n",
            " /  \\   /  \n",
            " 2  6  17  \n",
            "/ \\        \n",
            "1 3        \n"
          ]
        }
      ],
      "source": [
        "Q4Tree=deleteNode(Q4Tree,20)\n",
        "Q4Tree.display()"
      ]
    },
    {
      "cell_type": "code",
      "execution_count": 222,
      "metadata": {
        "id": "SICk6x08PKR0"
      },
      "outputs": [
        {
          "name": "stdout",
          "output_type": "stream",
          "text": [
            "   _15___ \n",
            "  /      \\\n",
            " _5     22\n",
            "/  \\   /  \n",
            "2  6  17  \n",
            " \\        \n",
            " 3        \n"
          ]
        }
      ],
      "source": [
        "Q4Tree=deleteNode(Q4Tree,1)\n",
        "Q4Tree.display()"
      ]
    },
    {
      "cell_type": "code",
      "execution_count": null,
      "metadata": {},
      "outputs": [],
      "source": []
    }
  ],
  "metadata": {
    "colab": {
      "provenance": []
    },
    "kernelspec": {
      "display_name": "Python 3",
      "name": "python3"
    },
    "language_info": {
      "codemirror_mode": {
        "name": "ipython",
        "version": 3
      },
      "file_extension": ".py",
      "mimetype": "text/x-python",
      "name": "python",
      "nbconvert_exporter": "python",
      "pygments_lexer": "ipython3",
      "version": "3.11.5"
    }
  },
  "nbformat": 4,
  "nbformat_minor": 0
}
