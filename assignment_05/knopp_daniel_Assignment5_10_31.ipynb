{
  "cells": [
    {
      "cell_type": "markdown",
      "metadata": {
        "id": "wxDL5Lr5LOsh"
      },
      "source": [
        "# Assignment 5 - 10/31"
      ]
    },
    {
      "cell_type": "markdown",
      "metadata": {
        "id": "wKJYJVBzLVis"
      },
      "source": [
        "## Instructions\n",
        "* The Assignment # 5 is in class (only)\n",
        "* Worth 10 points\n",
        "* The duration is 70 minutes\n",
        "* You must upload your Jupiter Notebook solution within the class limit (12:30 to 1:45 pm).\n",
        "* Late submissions are not allowed.\n",
        "\n",
        "**General Conditions**\n",
        "* You can **only** talk and discuss with your classmates for the **first 15 minutes**.\n",
        "* You can access all **your material** (open book)\n",
        "* You are **not** allowed to use code helper sites like *stackoverflow*, *CodeReview,* etc.\n",
        "* You are **not** allowed to use *ChatGPT*, *Co-pilot*, or any other *AI*\n",
        "* You are **not** allowed to transfer files or share code with any other person (directly or indirectly)\n",
        "\n"
      ]
    },
    {
      "cell_type": "markdown",
      "metadata": {
        "id": "NoykHR7HmuE_"
      },
      "source": [
        "## Q1 (2 pts). Run-Length Decoding"
      ]
    },
    {
      "cell_type": "markdown",
      "metadata": {
        "id": "JAT1WRWSnBbr"
      },
      "source": [
        "Run-Length Decoding is a data compression and decompression technique that is often used to reduce the size of data by encoding consecutive repeated characters or values as a single value followed by a count of how many times it is repeated. It is the reverse process of Run-Length Encoding (RLE), which is used to compress data.\n",
        "\n",
        "Here's how Run-Length Decoding works:\n",
        "\n",
        "Given a compressed string or sequence, it consists of pairs of a character or value and a count (e.g., \"A3B2C4\" means \"AAA\" followed by \"BB\" followed by \"CCCC\").\n",
        "To decode or decompress the data, you read the compressed data from left to right.\n",
        "Whenever you encounter a character or value, you append it to the output string the number of times specified by the count that follows.\n",
        "Continue this process until you have processed the entire compressed data.\n",
        "Here's an example to illustrate Run-Length Decoding:\n",
        "\n",
        "Compressed data: \"A3B2C4\"\n",
        "Decoded data: \"AAABBBCCCC\"\n",
        "\n",
        "In this example, the character \"A\" is repeated 3 times, \"B\" is repeated 2 times, and \"C\" is repeated 4 times, so the decoded data is the expansion of these repetitions.\n",
        "\n",
        "Run-Length Decoding is often used in situations where data compression is necessary for storage or transmission, and it is especially effective when there are long sequences of repeated values, as it can significantly reduce the amount of data required to represent the same information.\n",
        "\n",
        "**Sample Input**\n",
        "> \"9A4A2B4C2D\"\n",
        "\n",
        "**Sample Output**\n",
        "> string = \"AAAAAAAAAAAAABBCCCCDD\"\n",
        "\n"
      ]
    },
    {
      "cell_type": "code",
      "execution_count": 8,
      "metadata": {
        "id": "72QeW0FvmtjC"
      },
      "outputs": [
        {
          "name": "stdout",
          "output_type": "stream",
          "text": [
            "AAAAAAAAAAAAABBCCCCDD\n",
            "AAAAAAAAAAAAABBCCCCDD\n"
          ]
        }
      ],
      "source": [
        "def ruLengthDecoding(string):\n",
        "    prev_char = ''\n",
        "    new_string = ''\n",
        "    for char in string:\n",
        "        if prev_char.isdigit():\n",
        "            new_string = new_string + char * int(prev_char)\n",
        "        prev_char = char\n",
        "    return new_string\n",
        "\n",
        "print(ruLengthDecoding('9A4A2B4C2D'))\n",
        "print('AAAAAAAAAAAAABBCCCCDD')"
      ]
    },
    {
      "cell_type": "markdown",
      "metadata": {
        "id": "nvjErNzjOGg-"
      },
      "source": [
        "## Q2 (2 pt) Check Brackets consistency (open/close) using one Stack or Queue as data structure."
      ]
    },
    {
      "cell_type": "markdown",
      "metadata": {
        "id": "uO81BPhrOTsA"
      },
      "source": [
        "Using a stack, check if a string has valid open/close brackets.\n",
        "Valid brackects are [], {}, ().\n",
        "\n",
        "q2.1. Describe your approach, how to use linked list to implememnt the stack, singly linked list or double linked list, which one and why.\n",
        "\n",
        "Q2.2 Your code\n",
        "\n",
        "\n",
        "**Sample Input**\n",
        "\n",
        "> string1=\"{[(a+b)*25]+29}\"\n",
        "\n",
        "> string2=\"(2+{3*4−5}+6)−[7+(8−[9*10])}+[11−{12+(13−14)}]\"\n",
        "\n",
        "\n",
        "**Sample Output**\n",
        "\n",
        "> with string1 ->True\n",
        "\n",
        "> with string2 ->False\n",
        "\n"
      ]
    },
    {
      "cell_type": "markdown",
      "metadata": {
        "id": "1CvEJR73mUaP"
      },
      "source": [
        "<div class=\"alert alert-block alert-info\">\n",
        "<b>Q2.1 Response Here</b>\n",
        "\n",
        "I chose to use a stack similar to the example we discussed in class. My methodology will be that I will loop over all characters in the input string and each time I run into an left-opened brace I add the corresponding right-opened brace to the stack. Also, if I run into any right handed braces I can check if the brace in the top of the stack matches and if so I pop the item off the stack. Once this process is complete and I have looped through all the characters in the string, then I know the braces are balanced if the stack is empty. My return value checks this criteria and returns True or False.\n",
        "\n",
        "<div>"
      ]
    },
    {
      "cell_type": "code",
      "execution_count": 9,
      "metadata": {
        "id": "795TiGMNO8f7"
      },
      "outputs": [],
      "source": [
        "## Elements to add in the Stack\n",
        "class ElementStack:\n",
        "  def __init__(self, value):\n",
        "    self.data = value\n",
        "    self.next = None\n",
        "\n",
        "#FILO - First In, Last Out\n",
        "class Stack:\n",
        "\n",
        "  def __init__(self):\n",
        "    self.head   = None\n",
        "    self.__size = 0\n",
        "\n",
        "  # Overwrite default method for print()\n",
        "  def __str__(self):\n",
        "    if self.__size == 0: return 'None'\n",
        "    cur = self.head\n",
        "    out = \"\"\n",
        "    while cur != None:\n",
        "        out += f\"{cur.data}->\"\n",
        "        cur  = cur.next\n",
        "    out += \"None\"\n",
        "    return out\n",
        "\n",
        "  # Overwrite default method for len()\n",
        "  def __len__(self):\n",
        "    return self.__size\n",
        "\n",
        "  # Inserts an object at the top of the Stack.\n",
        "  def push(self, value):\n",
        "    new_node      = ElementStack(value)\n",
        "    new_node.next = self.head\n",
        "    self.head     = new_node\n",
        "    self.__size  += 1\n",
        "    return self.__str__()\n",
        "\n",
        "  # Removes and returns the object at the top of the Stack.\n",
        "  def pop(self):\n",
        "    if self.__size == 0: return 'Error, stack is empty'\n",
        "    out = self.head.data\n",
        "    if self.__size == 1:\n",
        "      self.head = None\n",
        "    else:\n",
        "      self.head = self.head.next\n",
        "    self.__size -= 1\n",
        "    return out\n",
        "\n",
        "  # Returns the object at the top of the Stack without removing it.\n",
        "  def peek(self):\n",
        "    return self.head.data\n",
        "\n",
        "\n",
        "  # Removes all objects from the Stack.\n",
        "  def clear(self):\n",
        "    self.head = None\n",
        "    self.__size = 0\n",
        "    return self.__str__()\n",
        "\n",
        "\n",
        "  # Returns a string that represents the current object. (Inherited from Object)\n",
        "  def display(self):\n",
        "    return self.__str__()\n",
        "\n",
        "  #Determines whether an element is in the Stack.\n",
        "  def contains(self, value):\n",
        "    if self.__size == 0: return False\n",
        "    cur = self.head\n",
        "    while cur != None:\n",
        "      if cur.data == value:\n",
        "        return True\n",
        "      cur = cur.next\n",
        "    return False\n",
        "\n",
        "  # Copies the Stack to a new array.\n",
        "  def toArray(self):\n",
        "    out = []\n",
        "    if self.__size != 0:\n",
        "      cur = self.head\n",
        "      while cur != None:\n",
        "        out.append(cur.data)\n",
        "        cur = cur.next\n",
        "    return out"
      ]
    },
    {
      "cell_type": "code",
      "execution_count": 10,
      "metadata": {
        "id": "0dmDeJqALIVm"
      },
      "outputs": [],
      "source": [
        "#Q2.2 your code here\n",
        "\n",
        "def checkBrackets(string):\n",
        "    stack = Stack()\n",
        "    for char in string:\n",
        "        if char == '(':\n",
        "            stack.push(')')\n",
        "        elif char == '[':\n",
        "            stack.push(']')\n",
        "        elif char == '{':\n",
        "            stack.push('}')\n",
        "        if char == ')' and stack.peek() == ')':\n",
        "            stack.pop()\n",
        "        elif char == ']' and stack.peek() == ']':\n",
        "            stack.pop()\n",
        "        elif char == '}' and stack.peek() == '}':\n",
        "            stack.pop()\n",
        "    if len(stack) == 0:\n",
        "        return True\n",
        "    else:\n",
        "        return False"
      ]
    },
    {
      "cell_type": "code",
      "execution_count": 11,
      "metadata": {
        "id": "JnE7jti0iuj7"
      },
      "outputs": [
        {
          "name": "stdout",
          "output_type": "stream",
          "text": [
            "True\n",
            "False\n"
          ]
        }
      ],
      "source": [
        "string1=\"{[(a+b)*25]+29}\"\n",
        "string2=\"(2+{3*4−5}+6)−[7+(8−[9*10])}+[11−{12+(13−14)}]\"\n",
        "\n",
        "a=checkBrackets(string1)\n",
        "b=checkBrackets(string2)\n",
        "\n",
        "print(a)\n",
        "print(b)"
      ]
    },
    {
      "cell_type": "markdown",
      "metadata": {
        "id": "LbGCbkPwCaDk"
      },
      "source": [
        "## Q3 (2 pt) Intersection\n"
      ]
    },
    {
      "cell_type": "markdown",
      "metadata": {
        "id": "hs7JNaLHW2aQ"
      },
      "source": [
        "Implement a Python function that finds the intersection of two sets using dictionary data structures. Include an explanation and the code of your approach."
      ]
    },
    {
      "cell_type": "markdown",
      "metadata": {
        "id": "GBM_2Q3HCk7y"
      },
      "source": [
        "<div class=\"alert alert-block alert-info\">\n",
        "<b>Q3.1 Response Here - Explanation</b>\n",
        "\n",
        "I will first initialize my dictionary to have keys corresponding to all the values in set1 and values of 1. Then, I will loop oer set2 and if a key, value pair already exists for this then I will add 1 to the dictionary entry's value - meaning that the key is present in both sets. Finally, I will return all keys who have a value of greater than 1 for my intersected set.\n",
        "\n",
        "<div>"
      ]
    },
    {
      "cell_type": "code",
      "execution_count": 13,
      "metadata": {
        "id": "rFzD8QwJCcuU"
      },
      "outputs": [
        {
          "name": "stdout",
          "output_type": "stream",
          "text": [
            "Intersection: {3, 4, 5}\n"
          ]
        }
      ],
      "source": [
        "#Q3.2 Code here\n",
        "def set_intersection(set1, set2):\n",
        "    new_dict = {}\n",
        "    new_set  = set()\n",
        "    for val in set1:\n",
        "        new_dict[val] = 1\n",
        "    for val in set2:\n",
        "        if val in new_dict.keys():\n",
        "            new_dict[val] += 1\n",
        "        else:\n",
        "            new_dict[val] = 1\n",
        "    for key, value in new_dict.items():\n",
        "        if value > 1:\n",
        "            new_set.add(key)\n",
        "    return new_set\n",
        "\n",
        "\n",
        "# Example usage\n",
        "set1 = {1, 2, 3, 4, 5}\n",
        "set2 = {3, 4, 5, 6, 7}\n",
        "intersection = set_intersection(set1, set2)\n",
        "print(\"Intersection:\", intersection)\n"
      ]
    },
    {
      "cell_type": "markdown",
      "metadata": {
        "id": "G-zdr7RSC4Gt"
      },
      "source": [
        "## Q4 (2 pts.) Student Database"
      ]
    },
    {
      "cell_type": "markdown",
      "metadata": {
        "id": "3gA12BErC_YH"
      },
      "source": [
        "Create a Python class and dictionary that simulates a student database with student IDs as keys and student records as values. Include methods for adding, updating, and deleting student records."
      ]
    },
    {
      "cell_type": "code",
      "execution_count": 25,
      "metadata": {
        "id": "Ni3cioISC7dH"
      },
      "outputs": [],
      "source": [
        "class StudentDatabase:\n",
        "    def __init__(self):\n",
        "        self.student_database = {}\n",
        "\n",
        "    def __str__(self):\n",
        "        return str(self.student_database)\n",
        "    \n",
        "    def get_dict(self):\n",
        "        return self.student_database\n",
        "\n",
        "    def add(self, student, attributes, values):\n",
        "        self.student_database[student] = {}\n",
        "        for i in range(len(attributes)):\n",
        "            self.student_database[student][attributes[i]] = values[i]\n",
        "\n",
        "    def update(self, student, attribute, value):\n",
        "        self.student_database[student][attribute] = value\n",
        "\n",
        "    def delete(self, student, attribute=None):\n",
        "        if attribute == None:\n",
        "            del self.student_database[student]\n",
        "        else:\n",
        "            del self.student_database[student][attribute]\n",
        "\n",
        "\n",
        "    # Include methods for adding, updating, and deleting student records\n",
        "\n"
      ]
    },
    {
      "cell_type": "code",
      "execution_count": 68,
      "metadata": {
        "id": "oeYFtj_WC23N"
      },
      "outputs": [
        {
          "name": "stdout",
          "output_type": "stream",
          "text": [
            "{'Daniel': {'preferred_name': 'Dan', 'id': '1234', 'email': 'daniel@gmail.com'}}\n",
            "{'Daniel': {'preferred_name': 'Dan', 'id': '1234', 'email': 'daniel@gmail.com'}, 'Jeffrey': {'preferred_name': 'Jeff', 'id': '4321', 'email': 'jeffrey@gmail.com'}}\n",
            "{'Daniel': {'preferred_name': 'Dan', 'id': '1234', 'email': 'knopp@gmail.com'}, 'Jeffrey': {'preferred_name': 'Jeff', 'id': '4321', 'email': 'jeffrey@gmail.com'}}\n",
            "{'Daniel': {'preferred_name': 'Dan', 'id': '1234'}, 'Jeffrey': {'preferred_name': 'Jeff', 'id': '4321', 'email': 'jeffrey@gmail.com'}}\n",
            "{'Jeffrey': {'preferred_name': 'Jeff', 'id': '4321', 'email': 'jeffrey@gmail.com'}}\n"
          ]
        }
      ],
      "source": [
        "database = StudentDatabase()\n",
        "database.add('Daniel' , ['preferred_name', 'id', 'email'], ['Dan' , '1234', 'daniel@gmail.com' ])\n",
        "print(database)\n",
        "database.add('Jeffrey', ['preferred_name', 'id', 'email'], ['Jeff', '4321', 'jeffrey@gmail.com'])\n",
        "print(database)\n",
        "database.update('Daniel' , 'email', 'knopp@gmail.com')\n",
        "print(database)\n",
        "database.delete('Daniel' , 'email')\n",
        "print(database)\n",
        "database.delete('Daniel')\n",
        "print(database)"
      ]
    },
    {
      "cell_type": "markdown",
      "metadata": {
        "id": "32MszvntEoC8"
      },
      "source": [
        "## Q5 (2pts) Detect a loop"
      ]
    },
    {
      "cell_type": "markdown",
      "metadata": {
        "id": "Ij0UnSLGFQw_"
      },
      "source": [
        "Write a Python function to detect a loop in a linked list and find the starting node of the loop if one exists. Include the code and an explanation of your approach.\n",
        "\n",
        "![LinkedListLoop.png](data:image/png;base64,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)\n"
      ]
    },
    {
      "cell_type": "markdown",
      "metadata": {},
      "source": [
        "<div class=\"alert alert-block alert-info\">\n",
        "<b>Q5.1 Response Here - Explanation</b>\n",
        "\n",
        "I first had to create a new method that made a loop of my current list that pointed to a specific index provided as an input (just to initialize the problem). Then, checking for a loop in the list is as easy as counting until you get to the last element (using the __size attribute to know how many nodes to loop over) and then checking if the final node in the list points to None (as it should be for a non-looping list) or points to some other object (if the list contains a loop). Then I return True or False based on the detection. False means a loop was not detected and True means a loop was detected.\n",
        "\n",
        "<div>"
      ]
    },
    {
      "cell_type": "code",
      "execution_count": 58,
      "metadata": {
        "id": "F3F4auTjEuas"
      },
      "outputs": [],
      "source": [
        "#you have only a head pointer in the linked list, you dont have a tail pointer.\n",
        "# add methods if needed.\n",
        "class Node:\n",
        "    def __init__(self, data):\n",
        "        self.data = data\n",
        "        self.next = None\n",
        "\n",
        "class LinkedList:\n",
        "    def __init__(self):\n",
        "        self.head = None\n",
        "        self.__size = 0\n",
        "\n",
        "    def __str__(self):\n",
        "        cur = self.head\n",
        "        out = f\"{cur.data}->\"\n",
        "        count = 0\n",
        "        while cur != None and count < self.__size:\n",
        "            out += \"{}->\".format(cur.next.data) if cur.next != None else \"None\"\n",
        "            cur  = cur.next\n",
        "            count += 1\n",
        "        # out += \"None\"\n",
        "        return out\n",
        "\n",
        "    def __len__(self):\n",
        "        return self.__size\n",
        "\n",
        "    def push(self, data):\n",
        "        new_node      = Node(data)\n",
        "        new_node.next = self.head\n",
        "        if self.head == None:\n",
        "            self.tail = new_node\n",
        "        self.head     = new_node\n",
        "        self.__size  += 1\n",
        "\n",
        "    def make_loop(self, index):\n",
        "        cur = self.head\n",
        "        count = 0\n",
        "        while cur != None:\n",
        "            if count == index:\n",
        "                node_to_loop = cur\n",
        "            if count == self.__size-1:\n",
        "                cur.next = node_to_loop\n",
        "                cur = None\n",
        "            else:\n",
        "                cur = cur.next\n",
        "            count += 1\n",
        "\n",
        "    def detect_loop(self):\n",
        "        cur = self.head\n",
        "        count = 0\n",
        "        while count < self.__size:\n",
        "            if count == self.__size-1:\n",
        "                if cur.next == None:\n",
        "                    return False\n",
        "                else:\n",
        "                    return True\n",
        "            count += 1\n",
        "            cur = cur.next"
      ]
    },
    {
      "cell_type": "code",
      "execution_count": 59,
      "metadata": {},
      "outputs": [
        {
          "name": "stdout",
          "output_type": "stream",
          "text": [
            "1->2->3->4->5->None\n",
            "False\n",
            "1->2->3->4->5->3->\n",
            "True\n"
          ]
        }
      ],
      "source": [
        "# Create test list\n",
        "\n",
        "test_list = LinkedList()\n",
        "test_list.push(5)\n",
        "test_list.push(4)\n",
        "test_list.push(3)\n",
        "test_list.push(2)\n",
        "test_list.push(1)\n",
        "print(test_list)\n",
        "print(test_list.detect_loop())\n",
        "test_list.make_loop(2)\n",
        "print(test_list)\n",
        "print(test_list.detect_loop())"
      ]
    },
    {
      "cell_type": "markdown",
      "metadata": {
        "id": "DAt4Ug41ZGkp"
      },
      "source": [
        "##Q6 (1 pts) Extra  - Subarray Sort"
      ]
    },
    {
      "cell_type": "markdown",
      "metadata": {
        "id": "yrpRMC4TZKb2"
      },
      "source": [
        "\n",
        "Write a function that takes in an array of at least two integers and that returns an array of the starting and ending indices of the smallest subarray in the input array that needs to be sorted in place in order for the entire input array to be sorted (in ascending order).\n",
        "If the input array is already sorted, the function should return\n",
        "[-1, -1].\n",
        "\n",
        "**Sample Input**\n",
        "\n",
        "array = [1, 2, 4, 7, 10, 11, 7, 12, 6, 7, 16, 18, 19]\n",
        "\n",
        "\n",
        "**Sample Output**\n",
        "\n",
        "[3,9]"
      ]
    },
    {
      "cell_type": "markdown",
      "metadata": {
        "id": "nwbXtkDmaOor"
      },
      "source": [
        "**Hints**\n",
        "* Realize that even a single out-of-order number in the input array can call for a large subarray to have to be sorted. This is because, depending on how out-of-place the number is, it might need to be moved very far away from its original position in order to be in its sorted position.\n",
        "* Find the smallest and largest numbers that are out of order in the input array. You should be able to do this in a single pass through the array.\n",
        "* Once you've found the smallest and largest out-of-order numbers mentioned in Hint #2, find their final sorted positions in the array. This should give you the extremities of the smallest subarray that needs to be sorted."
      ]
    },
    {
      "cell_type": "code",
      "execution_count": 67,
      "metadata": {
        "id": "bEVYRnWHZrSm"
      },
      "outputs": [
        {
          "name": "stdout",
          "output_type": "stream",
          "text": [
            "Testing array [1, 2, 4, 7, 10, 11, 7, 12, 6, 7, 16, 18, 19]:[3, 9]\n",
            "Testing array [1, 2, 3, 4, 5, 6, 7, 8, 9]                  :[-1, -1]\n"
          ]
        }
      ],
      "source": [
        "# I don't understand the hint, but what makes sense to me is to first sort the array and then find the bounds of the internal array where the matching pattern is broken\n",
        "def subarraySort(array):\n",
        "    sorted_array = sorted(array)\n",
        "    indices = [i for i in range(len(array))]\n",
        "    matches = [False] * len(array)\n",
        "    for i, val in enumerate(sorted_array):\n",
        "        if array[i] == val:\n",
        "            matches[i] = True\n",
        "    # print(matches)\n",
        "    non_match_idx = []\n",
        "    for i, val in enumerate(matches):\n",
        "        if val == False:\n",
        "            non_match_idx.append(i)\n",
        "    if len(non_match_idx) == 0:\n",
        "        return [-1, -1]\n",
        "    else:\n",
        "        return [non_match_idx[0], non_match_idx[-1]]\n",
        "\n",
        "print(f'Testing array [1, 2, 4, 7, 10, 11, 7, 12, 6, 7, 16, 18, 19]:' + str(subarraySort([1, 2, 4, 7, 10, 11, 7, 12, 6, 7, 16, 18, 19])))\n",
        "print(f'Testing array [1, 2, 3, 4, 5, 6, 7, 8, 9]                  :' + str(subarraySort([1, 2, 3, 4, 5, 6, 7, 8, 9])))"
      ]
    }
  ],
  "metadata": {
    "colab": {
      "collapsed_sections": [
        "NoykHR7HmuE_",
        "nvjErNzjOGg-",
        "LbGCbkPwCaDk",
        "G-zdr7RSC4Gt",
        "32MszvntEoC8",
        "DAt4Ug41ZGkp"
      ],
      "provenance": []
    },
    "kernelspec": {
      "display_name": "Python 3",
      "name": "python3"
    },
    "language_info": {
      "codemirror_mode": {
        "name": "ipython",
        "version": 3
      },
      "file_extension": ".py",
      "mimetype": "text/x-python",
      "name": "python",
      "nbconvert_exporter": "python",
      "pygments_lexer": "ipython3",
      "version": "3.11.5"
    }
  },
  "nbformat": 4,
  "nbformat_minor": 0
}
